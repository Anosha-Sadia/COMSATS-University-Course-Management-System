{
  "nbformat": 4,
  "nbformat_minor": 0,
  "metadata": {
    "colab": {
      "provenance": []
    },
    "kernelspec": {
      "name": "python3",
      "display_name": "Python 3"
    },
    "language_info": {
      "name": "python"
    }
  },
  "cells": [
    {
      "cell_type": "markdown",
      "source": [
        "# **COMSATS University Course Management System**"
      ],
      "metadata": {
        "id": "fH_Yez_ST_ki"
      }
    },
    {
      "cell_type": "code",
      "execution_count": 18,
      "metadata": {
        "colab": {
          "base_uri": "https://localhost:8080/"
        },
        "id": "2h7zzjNqTV52",
        "outputId": "9fde114e-243e-4254-b727-75848afe9f68"
      },
      "outputs": [
        {
          "output_type": "stream",
          "name": "stdout",
          "text": [
            "Anosha has been enrolled in Programming Fundamentals\n",
            "Schedule for coding : 14 Nov\n",
            "Schedule for lab_sessions : 20 Nov\n",
            "\n",
            "Anosha has been enrolled in Calculus\n",
            "Schedule for Theory Lecture 15 Nov\n",
            "Schedule for Problem Solving Session 19 Nov\n",
            "\n",
            "Hamza has been enrolled in Programming Fundamentals\n",
            "Schedule for coding : 14 Nov\n",
            "Schedule for lab_sessions : 20 Nov\n",
            "\n",
            "Hamza has been enrolled in Calculus\n",
            "Schedule for Theory Lecture 15 Nov\n",
            "Schedule for Problem Solving Session 19 Nov\n",
            "\n",
            "Ali has been enrolled in Programming Fundamentals\n",
            "Schedule for coding : 14 Nov\n",
            "Schedule for lab_sessions : 20 Nov\n",
            "\n",
            "Ali has been enrolled in Calculus\n",
            "Schedule for Theory Lecture 15 Nov\n",
            "Schedule for Problem Solving Session 19 Nov\n",
            "\n"
          ]
        }
      ],
      "source": [
        "from abc import ABC, abstractmethod\n",
        "class Course(ABC):\n",
        "  def __init__(self, course_name, credits, instructor):\n",
        "    self.__course_name = course_name\n",
        "    self.__credits= credits\n",
        "    self.__instructor= instructor\n",
        "\n",
        "  @abstractmethod\n",
        "  def enroll_student(self, student_name):\n",
        "    pass\n",
        "\n",
        "  def get_syllabus(self):\n",
        "    print(f\"Syllabus : {self.course_name}\")\n",
        "\n",
        "  def get_course_name(self):\n",
        "    return self.__course_name\n",
        "\n",
        "  def get_credits(self):\n",
        "    return self.__credits\n",
        "\n",
        "class ProgrammingCourse(Course):\n",
        "  def __init__(self, course_name, credits, instructor, programming_language):\n",
        "    super().__init__(course_name, credits, instructor)\n",
        "    self.course_name= course_name\n",
        "    self.credits= credits\n",
        "    self.instructor= instructor\n",
        "    self.programming_language = programming_language\n",
        "    self.__enrolled_students = []\n",
        "\n",
        "  def get_practical_exercises(self):\n",
        "    print(f\"Practical Exercise for {self.programming_language} course \\n \")\n",
        "\n",
        "  def get_schedule(self, coding_assignment, lab_sessions):\n",
        "    print(f\"Schedule for coding : {coding_assignment}\")\n",
        "    print(f\"Schedule for lab_sessions : {lab_sessions}\\n\")\n",
        "\n",
        "  def enroll_student(self, student_name):\n",
        "    self.__enrolled_students.append(student_name)\n",
        "    print(f\"{student_name} has been enrolled in {self.get_course_name()}\")\n",
        "\n",
        "class MathematicsCourse(Course):\n",
        "  def __init__(self, course_name, credits, instructor, math_field):\n",
        "    super().__init__(course_name, credits, instructor)\n",
        "    self.course_name= course_name\n",
        "    self.credits= credits\n",
        "    self.__enrolled_students = []\n",
        "\n",
        "  def get_formula_sheet(self):\n",
        "    print(f\"Formula sheet for {self.math_field} course\")\n",
        "\n",
        "  def get_schedule(self, theory_lecture, problem_solving_session):\n",
        "    print(f\"Schedule for Theory Lecture {theory_lecture}\")\n",
        "    print(f\"Schedule for Problem Solving Session {problem_solving_session}\\n\")\n",
        "\n",
        "  def enroll_student(self, student_name):\n",
        "    self.__enrolled_students.append(student_name)\n",
        "    print(f\"{student_name} has been enrolled in {self.get_course_name()}\")\n",
        "\n",
        "\n",
        "object_of_PC = ProgrammingCourse(\"Programming Fundamentals\", 4, \"Mam Sanam\", \"Python\")\n",
        "object_of_PC.enroll_student(\"Anosha\")\n",
        "object_of_PC.get_schedule( \"14 Nov\", \"20 Nov\")\n",
        "\n",
        "object_of_MC = MathematicsCourse(\"Calculus\", 3, \"Sir Mujtaba\", \"Calculus\")\n",
        "object_of_MC.enroll_student(\"Anosha\")\n",
        "object_of_MC.get_schedule( \"15 Nov\", \"19 Nov\")\n",
        "\n",
        "\n",
        "object_of_PC = ProgrammingCourse(\"Programming Fundamentals\", 4, \"Mam Sanam\", \"Python\")\n",
        "object_of_PC.enroll_student(\"Hamza\")\n",
        "object_of_PC.get_schedule( \"14 Nov\", \"20 Nov\")\n",
        "\n",
        "object_of_MC = MathematicsCourse(\"Calculus\", 3, \"Sir Mujtaba\", \"Calculus\")\n",
        "object_of_MC.enroll_student(\"Hamza\")\n",
        "object_of_MC.get_schedule( \"15 Nov\", \"19 Nov\")\n",
        "\n",
        "\n",
        "object_of_PC = ProgrammingCourse(\"Programming Fundamentals\", 4, \"Mam Sanam\", \"Python\")\n",
        "object_of_PC.enroll_student(\"Ali\")\n",
        "object_of_PC.get_schedule( \"14 Nov\", \"20 Nov\")\n",
        "\n",
        "object_of_MC = MathematicsCourse(\"Calculus\", 3, \"Sir Mujtaba\", \"Calculus\")\n",
        "object_of_MC.enroll_student(\"Ali\")\n",
        "object_of_MC.get_schedule( \"15 Nov\", \"19 Nov\")"
      ]
    }
  ]
}